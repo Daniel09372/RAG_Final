{
 "cells": [
  {
   "cell_type": "code",
   "id": "f266f053-be61-421d-977c-d762179b2d6e",
   "metadata": {
    "ExecuteTime": {
     "end_time": "2024-10-01T12:22:07.958960Z",
     "start_time": "2024-10-01T12:22:07.942796Z"
    }
   },
   "source": "#!pip install langchain-community==0.2.4 langchain==0.2.3 faiss-cpu==1.8.0 unstructured==0.14.5 unstructured[pdf]==0.14.5 transformers==4.41.2 sentence-transformers==3.0.1",
   "outputs": [],
   "execution_count": 21
  },
  {
   "cell_type": "code",
   "id": "24fae24c-433b-4860-badd-e0eb20759f4b",
   "metadata": {
    "ExecuteTime": {
     "end_time": "2024-10-03T09:13:10.660915Z",
     "start_time": "2024-10-03T09:13:06.282896Z"
    }
   },
   "source": [
    "import os\n",
    "import pandas as pd\n",
    "from langchain_community.llms import Ollama\n",
    "from langchain.document_loaders import UnstructuredFileLoader\n",
    "from langchain_community.vectorstores import FAISS\n",
    "from langchain_chroma import Chroma\n",
    "from langchain.embeddings import HuggingFaceEmbeddings\n",
    "from langchain.text_splitter import CharacterTextSplitter\n",
    "from langchain.chains import RetrievalQA\n",
    "from langchain.document_loaders.pdf import PyPDFDirectoryLoader\n",
    "import streamlit as st\n",
    "from langchain_community.embeddings.ollama import OllamaEmbeddings\n",
    "\n",
    "# Read the Excel file\n",
    "df = pd.read_excel('C:/Users/49171/OneDrive/Desktop/Programieren/Python/PDF_test/Final/Hackathon_Fragen.xlsx')\n",
    "\n",
    "df.to_excel('C:/Users/49171/OneDrive/Desktop/Programieren/Python/PDF_test/Final/output.xlsx', index=False)\n",
    "\n",
    "DATA_PATH = \"C:/Users/49171/OneDrive/Desktop/Programieren/Python/PDF_test/Final\"\n",
    "\n",
    "vectorDB = \"C:/Users49171/OneDrive/Desktop/Programieren/Python/PDF_test/Final/vectorDB\"\n",
    "\n",
    "switch = 1"
   ],
   "outputs": [
    {
     "ename": "KeyboardInterrupt",
     "evalue": "",
     "output_type": "error",
     "traceback": [
      "\u001B[1;31m---------------------------------------------------------------------------\u001B[0m",
      "\u001B[1;31mKeyboardInterrupt\u001B[0m                         Traceback (most recent call last)",
      "Cell \u001B[1;32mIn[27], line 2\u001B[0m\n\u001B[0;32m      1\u001B[0m \u001B[38;5;28;01mimport\u001B[39;00m \u001B[38;5;21;01mos\u001B[39;00m\n\u001B[1;32m----> 2\u001B[0m \u001B[38;5;28;01mimport\u001B[39;00m \u001B[38;5;21;01mpandas\u001B[39;00m \u001B[38;5;28;01mas\u001B[39;00m \u001B[38;5;21;01mpd\u001B[39;00m\n\u001B[0;32m      3\u001B[0m \u001B[38;5;28;01mfrom\u001B[39;00m \u001B[38;5;21;01mlangchain_community\u001B[39;00m\u001B[38;5;21;01m.\u001B[39;00m\u001B[38;5;21;01mllms\u001B[39;00m \u001B[38;5;28;01mimport\u001B[39;00m Ollama\n\u001B[0;32m      4\u001B[0m \u001B[38;5;28;01mfrom\u001B[39;00m \u001B[38;5;21;01mlangchain\u001B[39;00m\u001B[38;5;21;01m.\u001B[39;00m\u001B[38;5;21;01mdocument_loaders\u001B[39;00m \u001B[38;5;28;01mimport\u001B[39;00m UnstructuredFileLoader\n",
      "File \u001B[1;32m~\\PycharmProjects\\pythonProject3\\.venv\\lib\\site-packages\\pandas\\__init__.py:48\u001B[0m\n\u001B[0;32m     45\u001B[0m \u001B[38;5;66;03m# let init-time option registration happen\u001B[39;00m\n\u001B[0;32m     46\u001B[0m \u001B[38;5;28;01mimport\u001B[39;00m \u001B[38;5;21;01mpandas\u001B[39;00m\u001B[38;5;21;01m.\u001B[39;00m\u001B[38;5;21;01mcore\u001B[39;00m\u001B[38;5;21;01m.\u001B[39;00m\u001B[38;5;21;01mconfig_init\u001B[39;00m  \u001B[38;5;66;03m# pyright: ignore # noqa:F401\u001B[39;00m\n\u001B[1;32m---> 48\u001B[0m \u001B[38;5;28;01mfrom\u001B[39;00m \u001B[38;5;21;01mpandas\u001B[39;00m\u001B[38;5;21;01m.\u001B[39;00m\u001B[38;5;21;01mcore\u001B[39;00m\u001B[38;5;21;01m.\u001B[39;00m\u001B[38;5;21;01mapi\u001B[39;00m \u001B[38;5;28;01mimport\u001B[39;00m (\n\u001B[0;32m     49\u001B[0m     \u001B[38;5;66;03m# dtype\u001B[39;00m\n\u001B[0;32m     50\u001B[0m     ArrowDtype,\n\u001B[0;32m     51\u001B[0m     Int8Dtype,\n\u001B[0;32m     52\u001B[0m     Int16Dtype,\n\u001B[0;32m     53\u001B[0m     Int32Dtype,\n\u001B[0;32m     54\u001B[0m     Int64Dtype,\n\u001B[0;32m     55\u001B[0m     UInt8Dtype,\n\u001B[0;32m     56\u001B[0m     UInt16Dtype,\n\u001B[0;32m     57\u001B[0m     UInt32Dtype,\n\u001B[0;32m     58\u001B[0m     UInt64Dtype,\n\u001B[0;32m     59\u001B[0m     Float32Dtype,\n\u001B[0;32m     60\u001B[0m     Float64Dtype,\n\u001B[0;32m     61\u001B[0m     CategoricalDtype,\n\u001B[0;32m     62\u001B[0m     PeriodDtype,\n\u001B[0;32m     63\u001B[0m     IntervalDtype,\n\u001B[0;32m     64\u001B[0m     DatetimeTZDtype,\n\u001B[0;32m     65\u001B[0m     StringDtype,\n\u001B[0;32m     66\u001B[0m     BooleanDtype,\n\u001B[0;32m     67\u001B[0m     \u001B[38;5;66;03m# missing\u001B[39;00m\n\u001B[0;32m     68\u001B[0m     NA,\n\u001B[0;32m     69\u001B[0m     isna,\n\u001B[0;32m     70\u001B[0m     isnull,\n\u001B[0;32m     71\u001B[0m     notna,\n\u001B[0;32m     72\u001B[0m     notnull,\n\u001B[0;32m     73\u001B[0m     \u001B[38;5;66;03m# indexes\u001B[39;00m\n\u001B[0;32m     74\u001B[0m     Index,\n\u001B[0;32m     75\u001B[0m     CategoricalIndex,\n\u001B[0;32m     76\u001B[0m     RangeIndex,\n\u001B[0;32m     77\u001B[0m     MultiIndex,\n\u001B[0;32m     78\u001B[0m     IntervalIndex,\n\u001B[0;32m     79\u001B[0m     TimedeltaIndex,\n\u001B[0;32m     80\u001B[0m     DatetimeIndex,\n\u001B[0;32m     81\u001B[0m     PeriodIndex,\n\u001B[0;32m     82\u001B[0m     IndexSlice,\n\u001B[0;32m     83\u001B[0m     \u001B[38;5;66;03m# tseries\u001B[39;00m\n\u001B[0;32m     84\u001B[0m     NaT,\n\u001B[0;32m     85\u001B[0m     Period,\n\u001B[0;32m     86\u001B[0m     period_range,\n\u001B[0;32m     87\u001B[0m     Timedelta,\n\u001B[0;32m     88\u001B[0m     timedelta_range,\n\u001B[0;32m     89\u001B[0m     Timestamp,\n\u001B[0;32m     90\u001B[0m     date_range,\n\u001B[0;32m     91\u001B[0m     bdate_range,\n\u001B[0;32m     92\u001B[0m     Interval,\n\u001B[0;32m     93\u001B[0m     interval_range,\n\u001B[0;32m     94\u001B[0m     DateOffset,\n\u001B[0;32m     95\u001B[0m     \u001B[38;5;66;03m# conversion\u001B[39;00m\n\u001B[0;32m     96\u001B[0m     to_numeric,\n\u001B[0;32m     97\u001B[0m     to_datetime,\n\u001B[0;32m     98\u001B[0m     to_timedelta,\n\u001B[0;32m     99\u001B[0m     \u001B[38;5;66;03m# misc\u001B[39;00m\n\u001B[0;32m    100\u001B[0m     Flags,\n\u001B[0;32m    101\u001B[0m     Grouper,\n\u001B[0;32m    102\u001B[0m     factorize,\n\u001B[0;32m    103\u001B[0m     unique,\n\u001B[0;32m    104\u001B[0m     value_counts,\n\u001B[0;32m    105\u001B[0m     NamedAgg,\n\u001B[0;32m    106\u001B[0m     array,\n\u001B[0;32m    107\u001B[0m     Categorical,\n\u001B[0;32m    108\u001B[0m     set_eng_float_format,\n\u001B[0;32m    109\u001B[0m     Series,\n\u001B[0;32m    110\u001B[0m     DataFrame,\n\u001B[0;32m    111\u001B[0m )\n\u001B[0;32m    113\u001B[0m \u001B[38;5;28;01mfrom\u001B[39;00m \u001B[38;5;21;01mpandas\u001B[39;00m\u001B[38;5;21;01m.\u001B[39;00m\u001B[38;5;21;01mcore\u001B[39;00m\u001B[38;5;21;01m.\u001B[39;00m\u001B[38;5;21;01marrays\u001B[39;00m\u001B[38;5;21;01m.\u001B[39;00m\u001B[38;5;21;01msparse\u001B[39;00m \u001B[38;5;28;01mimport\u001B[39;00m SparseDtype\n\u001B[0;32m    115\u001B[0m \u001B[38;5;28;01mfrom\u001B[39;00m \u001B[38;5;21;01mpandas\u001B[39;00m\u001B[38;5;21;01m.\u001B[39;00m\u001B[38;5;21;01mtseries\u001B[39;00m\u001B[38;5;21;01m.\u001B[39;00m\u001B[38;5;21;01mapi\u001B[39;00m \u001B[38;5;28;01mimport\u001B[39;00m infer_freq\n",
      "File \u001B[1;32m~\\PycharmProjects\\pythonProject3\\.venv\\lib\\site-packages\\pandas\\core\\api.py:27\u001B[0m\n\u001B[0;32m     15\u001B[0m \u001B[38;5;28;01mfrom\u001B[39;00m \u001B[38;5;21;01mpandas\u001B[39;00m\u001B[38;5;21;01m.\u001B[39;00m\u001B[38;5;21;01mcore\u001B[39;00m\u001B[38;5;21;01m.\u001B[39;00m\u001B[38;5;21;01mdtypes\u001B[39;00m\u001B[38;5;21;01m.\u001B[39;00m\u001B[38;5;21;01mmissing\u001B[39;00m \u001B[38;5;28;01mimport\u001B[39;00m (\n\u001B[0;32m     16\u001B[0m     isna,\n\u001B[0;32m     17\u001B[0m     isnull,\n\u001B[0;32m     18\u001B[0m     notna,\n\u001B[0;32m     19\u001B[0m     notnull,\n\u001B[0;32m     20\u001B[0m )\n\u001B[0;32m     22\u001B[0m \u001B[38;5;28;01mfrom\u001B[39;00m \u001B[38;5;21;01mpandas\u001B[39;00m\u001B[38;5;21;01m.\u001B[39;00m\u001B[38;5;21;01mcore\u001B[39;00m\u001B[38;5;21;01m.\u001B[39;00m\u001B[38;5;21;01malgorithms\u001B[39;00m \u001B[38;5;28;01mimport\u001B[39;00m (\n\u001B[0;32m     23\u001B[0m     factorize,\n\u001B[0;32m     24\u001B[0m     unique,\n\u001B[0;32m     25\u001B[0m     value_counts,\n\u001B[0;32m     26\u001B[0m )\n\u001B[1;32m---> 27\u001B[0m \u001B[38;5;28;01mfrom\u001B[39;00m \u001B[38;5;21;01mpandas\u001B[39;00m\u001B[38;5;21;01m.\u001B[39;00m\u001B[38;5;21;01mcore\u001B[39;00m\u001B[38;5;21;01m.\u001B[39;00m\u001B[38;5;21;01marrays\u001B[39;00m \u001B[38;5;28;01mimport\u001B[39;00m Categorical\n\u001B[0;32m     28\u001B[0m \u001B[38;5;28;01mfrom\u001B[39;00m \u001B[38;5;21;01mpandas\u001B[39;00m\u001B[38;5;21;01m.\u001B[39;00m\u001B[38;5;21;01mcore\u001B[39;00m\u001B[38;5;21;01m.\u001B[39;00m\u001B[38;5;21;01marrays\u001B[39;00m\u001B[38;5;21;01m.\u001B[39;00m\u001B[38;5;21;01marrow\u001B[39;00m \u001B[38;5;28;01mimport\u001B[39;00m ArrowDtype\n\u001B[0;32m     29\u001B[0m \u001B[38;5;28;01mfrom\u001B[39;00m \u001B[38;5;21;01mpandas\u001B[39;00m\u001B[38;5;21;01m.\u001B[39;00m\u001B[38;5;21;01mcore\u001B[39;00m\u001B[38;5;21;01m.\u001B[39;00m\u001B[38;5;21;01marrays\u001B[39;00m\u001B[38;5;21;01m.\u001B[39;00m\u001B[38;5;21;01mboolean\u001B[39;00m \u001B[38;5;28;01mimport\u001B[39;00m BooleanDtype\n",
      "File \u001B[1;32m~\\PycharmProjects\\pythonProject3\\.venv\\lib\\site-packages\\pandas\\core\\arrays\\__init__.py:1\u001B[0m\n\u001B[1;32m----> 1\u001B[0m \u001B[38;5;28;01mfrom\u001B[39;00m \u001B[38;5;21;01mpandas\u001B[39;00m\u001B[38;5;21;01m.\u001B[39;00m\u001B[38;5;21;01mcore\u001B[39;00m\u001B[38;5;21;01m.\u001B[39;00m\u001B[38;5;21;01marrays\u001B[39;00m\u001B[38;5;21;01m.\u001B[39;00m\u001B[38;5;21;01marrow\u001B[39;00m \u001B[38;5;28;01mimport\u001B[39;00m ArrowExtensionArray\n\u001B[0;32m      2\u001B[0m \u001B[38;5;28;01mfrom\u001B[39;00m \u001B[38;5;21;01mpandas\u001B[39;00m\u001B[38;5;21;01m.\u001B[39;00m\u001B[38;5;21;01mcore\u001B[39;00m\u001B[38;5;21;01m.\u001B[39;00m\u001B[38;5;21;01marrays\u001B[39;00m\u001B[38;5;21;01m.\u001B[39;00m\u001B[38;5;21;01mbase\u001B[39;00m \u001B[38;5;28;01mimport\u001B[39;00m (\n\u001B[0;32m      3\u001B[0m     ExtensionArray,\n\u001B[0;32m      4\u001B[0m     ExtensionOpsMixin,\n\u001B[0;32m      5\u001B[0m     ExtensionScalarOpsMixin,\n\u001B[0;32m      6\u001B[0m )\n\u001B[0;32m      7\u001B[0m \u001B[38;5;28;01mfrom\u001B[39;00m \u001B[38;5;21;01mpandas\u001B[39;00m\u001B[38;5;21;01m.\u001B[39;00m\u001B[38;5;21;01mcore\u001B[39;00m\u001B[38;5;21;01m.\u001B[39;00m\u001B[38;5;21;01marrays\u001B[39;00m\u001B[38;5;21;01m.\u001B[39;00m\u001B[38;5;21;01mboolean\u001B[39;00m \u001B[38;5;28;01mimport\u001B[39;00m BooleanArray\n",
      "File \u001B[1;32m~\\PycharmProjects\\pythonProject3\\.venv\\lib\\site-packages\\pandas\\core\\arrays\\arrow\\__init__.py:1\u001B[0m\n\u001B[1;32m----> 1\u001B[0m \u001B[38;5;28;01mfrom\u001B[39;00m \u001B[38;5;21;01mpandas\u001B[39;00m\u001B[38;5;21;01m.\u001B[39;00m\u001B[38;5;21;01mcore\u001B[39;00m\u001B[38;5;21;01m.\u001B[39;00m\u001B[38;5;21;01marrays\u001B[39;00m\u001B[38;5;21;01m.\u001B[39;00m\u001B[38;5;21;01marrow\u001B[39;00m\u001B[38;5;21;01m.\u001B[39;00m\u001B[38;5;21;01marray\u001B[39;00m \u001B[38;5;28;01mimport\u001B[39;00m ArrowExtensionArray\n\u001B[0;32m      2\u001B[0m \u001B[38;5;28;01mfrom\u001B[39;00m \u001B[38;5;21;01mpandas\u001B[39;00m\u001B[38;5;21;01m.\u001B[39;00m\u001B[38;5;21;01mcore\u001B[39;00m\u001B[38;5;21;01m.\u001B[39;00m\u001B[38;5;21;01marrays\u001B[39;00m\u001B[38;5;21;01m.\u001B[39;00m\u001B[38;5;21;01marrow\u001B[39;00m\u001B[38;5;21;01m.\u001B[39;00m\u001B[38;5;21;01mdtype\u001B[39;00m \u001B[38;5;28;01mimport\u001B[39;00m ArrowDtype\n\u001B[0;32m      4\u001B[0m __all__ \u001B[38;5;241m=\u001B[39m [\u001B[38;5;124m\"\u001B[39m\u001B[38;5;124mArrowDtype\u001B[39m\u001B[38;5;124m\"\u001B[39m, \u001B[38;5;124m\"\u001B[39m\u001B[38;5;124mArrowExtensionArray\u001B[39m\u001B[38;5;124m\"\u001B[39m]\n",
      "File \u001B[1;32m~\\PycharmProjects\\pythonProject3\\.venv\\lib\\site-packages\\pandas\\core\\arrays\\arrow\\array.py:60\u001B[0m\n\u001B[0;32m     57\u001B[0m \u001B[38;5;28;01mfrom\u001B[39;00m \u001B[38;5;21;01mpandas\u001B[39;00m\u001B[38;5;21;01m.\u001B[39;00m\u001B[38;5;21;01mcore\u001B[39;00m\u001B[38;5;21;01m.\u001B[39;00m\u001B[38;5;21;01mdtypes\u001B[39;00m\u001B[38;5;21;01m.\u001B[39;00m\u001B[38;5;21;01mmissing\u001B[39;00m \u001B[38;5;28;01mimport\u001B[39;00m isna\n\u001B[0;32m     59\u001B[0m \u001B[38;5;28;01mfrom\u001B[39;00m \u001B[38;5;21;01mpandas\u001B[39;00m\u001B[38;5;21;01m.\u001B[39;00m\u001B[38;5;21;01mcore\u001B[39;00m \u001B[38;5;28;01mimport\u001B[39;00m roperator\n\u001B[1;32m---> 60\u001B[0m \u001B[38;5;28;01mfrom\u001B[39;00m \u001B[38;5;21;01mpandas\u001B[39;00m\u001B[38;5;21;01m.\u001B[39;00m\u001B[38;5;21;01mcore\u001B[39;00m\u001B[38;5;21;01m.\u001B[39;00m\u001B[38;5;21;01marraylike\u001B[39;00m \u001B[38;5;28;01mimport\u001B[39;00m OpsMixin\n\u001B[0;32m     61\u001B[0m \u001B[38;5;28;01mfrom\u001B[39;00m \u001B[38;5;21;01mpandas\u001B[39;00m\u001B[38;5;21;01m.\u001B[39;00m\u001B[38;5;21;01mcore\u001B[39;00m\u001B[38;5;21;01m.\u001B[39;00m\u001B[38;5;21;01marrays\u001B[39;00m\u001B[38;5;21;01m.\u001B[39;00m\u001B[38;5;21;01mbase\u001B[39;00m \u001B[38;5;28;01mimport\u001B[39;00m (\n\u001B[0;32m     62\u001B[0m     ExtensionArray,\n\u001B[0;32m     63\u001B[0m     ExtensionArraySupportsAnyAll,\n\u001B[0;32m     64\u001B[0m )\n\u001B[0;32m     65\u001B[0m \u001B[38;5;28;01mimport\u001B[39;00m \u001B[38;5;21;01mpandas\u001B[39;00m\u001B[38;5;21;01m.\u001B[39;00m\u001B[38;5;21;01mcore\u001B[39;00m\u001B[38;5;21;01m.\u001B[39;00m\u001B[38;5;21;01mcommon\u001B[39;00m \u001B[38;5;28;01mas\u001B[39;00m \u001B[38;5;21;01mcom\u001B[39;00m\n",
      "File \u001B[1;32m~\\PycharmProjects\\pythonProject3\\.venv\\lib\\site-packages\\pandas\\core\\arraylike.py:21\u001B[0m\n\u001B[0;32m     19\u001B[0m \u001B[38;5;28;01mfrom\u001B[39;00m \u001B[38;5;21;01mpandas\u001B[39;00m\u001B[38;5;21;01m.\u001B[39;00m\u001B[38;5;21;01mcore\u001B[39;00m \u001B[38;5;28;01mimport\u001B[39;00m roperator\n\u001B[0;32m     20\u001B[0m \u001B[38;5;28;01mfrom\u001B[39;00m \u001B[38;5;21;01mpandas\u001B[39;00m\u001B[38;5;21;01m.\u001B[39;00m\u001B[38;5;21;01mcore\u001B[39;00m\u001B[38;5;21;01m.\u001B[39;00m\u001B[38;5;21;01mconstruction\u001B[39;00m \u001B[38;5;28;01mimport\u001B[39;00m extract_array\n\u001B[1;32m---> 21\u001B[0m \u001B[38;5;28;01mfrom\u001B[39;00m \u001B[38;5;21;01mpandas\u001B[39;00m\u001B[38;5;21;01m.\u001B[39;00m\u001B[38;5;21;01mcore\u001B[39;00m\u001B[38;5;21;01m.\u001B[39;00m\u001B[38;5;21;01mops\u001B[39;00m\u001B[38;5;21;01m.\u001B[39;00m\u001B[38;5;21;01mcommon\u001B[39;00m \u001B[38;5;28;01mimport\u001B[39;00m unpack_zerodim_and_defer\n\u001B[0;32m     23\u001B[0m REDUCTION_ALIASES \u001B[38;5;241m=\u001B[39m {\n\u001B[0;32m     24\u001B[0m     \u001B[38;5;124m\"\u001B[39m\u001B[38;5;124mmaximum\u001B[39m\u001B[38;5;124m\"\u001B[39m: \u001B[38;5;124m\"\u001B[39m\u001B[38;5;124mmax\u001B[39m\u001B[38;5;124m\"\u001B[39m,\n\u001B[0;32m     25\u001B[0m     \u001B[38;5;124m\"\u001B[39m\u001B[38;5;124mminimum\u001B[39m\u001B[38;5;124m\"\u001B[39m: \u001B[38;5;124m\"\u001B[39m\u001B[38;5;124mmin\u001B[39m\u001B[38;5;124m\"\u001B[39m,\n\u001B[0;32m     26\u001B[0m     \u001B[38;5;124m\"\u001B[39m\u001B[38;5;124madd\u001B[39m\u001B[38;5;124m\"\u001B[39m: \u001B[38;5;124m\"\u001B[39m\u001B[38;5;124msum\u001B[39m\u001B[38;5;124m\"\u001B[39m,\n\u001B[0;32m     27\u001B[0m     \u001B[38;5;124m\"\u001B[39m\u001B[38;5;124mmultiply\u001B[39m\u001B[38;5;124m\"\u001B[39m: \u001B[38;5;124m\"\u001B[39m\u001B[38;5;124mprod\u001B[39m\u001B[38;5;124m\"\u001B[39m,\n\u001B[0;32m     28\u001B[0m }\n\u001B[0;32m     31\u001B[0m \u001B[38;5;28;01mclass\u001B[39;00m \u001B[38;5;21;01mOpsMixin\u001B[39;00m:\n\u001B[0;32m     32\u001B[0m     \u001B[38;5;66;03m# -------------------------------------------------------------\u001B[39;00m\n\u001B[0;32m     33\u001B[0m     \u001B[38;5;66;03m# Comparisons\u001B[39;00m\n",
      "File \u001B[1;32m~\\PycharmProjects\\pythonProject3\\.venv\\lib\\site-packages\\pandas\\core\\ops\\__init__.py:38\u001B[0m\n\u001B[0;32m     32\u001B[0m \u001B[38;5;28;01mfrom\u001B[39;00m \u001B[38;5;21;01mpandas\u001B[39;00m\u001B[38;5;21;01m.\u001B[39;00m\u001B[38;5;21;01mcore\u001B[39;00m\u001B[38;5;21;01m.\u001B[39;00m\u001B[38;5;21;01mdtypes\u001B[39;00m\u001B[38;5;21;01m.\u001B[39;00m\u001B[38;5;21;01mmissing\u001B[39;00m \u001B[38;5;28;01mimport\u001B[39;00m isna\n\u001B[0;32m     34\u001B[0m \u001B[38;5;28;01mfrom\u001B[39;00m \u001B[38;5;21;01mpandas\u001B[39;00m\u001B[38;5;21;01m.\u001B[39;00m\u001B[38;5;21;01mcore\u001B[39;00m \u001B[38;5;28;01mimport\u001B[39;00m (\n\u001B[0;32m     35\u001B[0m     algorithms,\n\u001B[0;32m     36\u001B[0m     roperator,\n\u001B[0;32m     37\u001B[0m )\n\u001B[1;32m---> 38\u001B[0m \u001B[38;5;28;01mfrom\u001B[39;00m \u001B[38;5;21;01mpandas\u001B[39;00m\u001B[38;5;21;01m.\u001B[39;00m\u001B[38;5;21;01mcore\u001B[39;00m\u001B[38;5;21;01m.\u001B[39;00m\u001B[38;5;21;01mops\u001B[39;00m\u001B[38;5;21;01m.\u001B[39;00m\u001B[38;5;21;01marray_ops\u001B[39;00m \u001B[38;5;28;01mimport\u001B[39;00m (\n\u001B[0;32m     39\u001B[0m     arithmetic_op,\n\u001B[0;32m     40\u001B[0m     comp_method_OBJECT_ARRAY,\n\u001B[0;32m     41\u001B[0m     comparison_op,\n\u001B[0;32m     42\u001B[0m     get_array_op,\n\u001B[0;32m     43\u001B[0m     logical_op,\n\u001B[0;32m     44\u001B[0m     maybe_prepare_scalar_for_op,\n\u001B[0;32m     45\u001B[0m )\n\u001B[0;32m     46\u001B[0m \u001B[38;5;28;01mfrom\u001B[39;00m \u001B[38;5;21;01mpandas\u001B[39;00m\u001B[38;5;21;01m.\u001B[39;00m\u001B[38;5;21;01mcore\u001B[39;00m\u001B[38;5;21;01m.\u001B[39;00m\u001B[38;5;21;01mops\u001B[39;00m\u001B[38;5;21;01m.\u001B[39;00m\u001B[38;5;21;01mcommon\u001B[39;00m \u001B[38;5;28;01mimport\u001B[39;00m (\n\u001B[0;32m     47\u001B[0m     get_op_result_name,\n\u001B[0;32m     48\u001B[0m     unpack_zerodim_and_defer,\n\u001B[0;32m     49\u001B[0m )\n\u001B[0;32m     50\u001B[0m \u001B[38;5;28;01mfrom\u001B[39;00m \u001B[38;5;21;01mpandas\u001B[39;00m\u001B[38;5;21;01m.\u001B[39;00m\u001B[38;5;21;01mcore\u001B[39;00m\u001B[38;5;21;01m.\u001B[39;00m\u001B[38;5;21;01mops\u001B[39;00m\u001B[38;5;21;01m.\u001B[39;00m\u001B[38;5;21;01mdocstrings\u001B[39;00m \u001B[38;5;28;01mimport\u001B[39;00m (\n\u001B[0;32m     51\u001B[0m     _flex_comp_doc_FRAME,\n\u001B[0;32m     52\u001B[0m     _op_descriptions,\n\u001B[0;32m     53\u001B[0m     make_flex_doc,\n\u001B[0;32m     54\u001B[0m )\n",
      "File \u001B[1;32m~\\PycharmProjects\\pythonProject3\\.venv\\lib\\site-packages\\pandas\\core\\ops\\array_ops.py:14\u001B[0m\n\u001B[0;32m     10\u001B[0m \u001B[38;5;28;01mfrom\u001B[39;00m \u001B[38;5;21;01mtyping\u001B[39;00m \u001B[38;5;28;01mimport\u001B[39;00m Any\n\u001B[0;32m     12\u001B[0m \u001B[38;5;28;01mimport\u001B[39;00m \u001B[38;5;21;01mnumpy\u001B[39;00m \u001B[38;5;28;01mas\u001B[39;00m \u001B[38;5;21;01mnp\u001B[39;00m\n\u001B[1;32m---> 14\u001B[0m \u001B[38;5;28;01mfrom\u001B[39;00m \u001B[38;5;21;01mpandas\u001B[39;00m\u001B[38;5;21;01m.\u001B[39;00m\u001B[38;5;21;01m_libs\u001B[39;00m \u001B[38;5;28;01mimport\u001B[39;00m (\n\u001B[0;32m     15\u001B[0m     NaT,\n\u001B[0;32m     16\u001B[0m     Timedelta,\n\u001B[0;32m     17\u001B[0m     Timestamp,\n\u001B[0;32m     18\u001B[0m     lib,\n\u001B[0;32m     19\u001B[0m     ops \u001B[38;5;28;01mas\u001B[39;00m libops,\n\u001B[0;32m     20\u001B[0m )\n\u001B[0;32m     21\u001B[0m \u001B[38;5;28;01mfrom\u001B[39;00m \u001B[38;5;21;01mpandas\u001B[39;00m\u001B[38;5;21;01m.\u001B[39;00m\u001B[38;5;21;01m_libs\u001B[39;00m\u001B[38;5;21;01m.\u001B[39;00m\u001B[38;5;21;01mtslibs\u001B[39;00m \u001B[38;5;28;01mimport\u001B[39;00m (\n\u001B[0;32m     22\u001B[0m     BaseOffset,\n\u001B[0;32m     23\u001B[0m     get_supported_reso,\n\u001B[1;32m   (...)\u001B[0m\n\u001B[0;32m     27\u001B[0m     npy_unit_to_abbrev,\n\u001B[0;32m     28\u001B[0m )\n\u001B[0;32m     29\u001B[0m \u001B[38;5;28;01mfrom\u001B[39;00m \u001B[38;5;21;01mpandas\u001B[39;00m\u001B[38;5;21;01m.\u001B[39;00m\u001B[38;5;21;01m_typing\u001B[39;00m \u001B[38;5;28;01mimport\u001B[39;00m (\n\u001B[0;32m     30\u001B[0m     ArrayLike,\n\u001B[0;32m     31\u001B[0m     Shape,\n\u001B[0;32m     32\u001B[0m )\n",
      "File \u001B[1;32m<frozen importlib._bootstrap>:389\u001B[0m, in \u001B[0;36mparent\u001B[1;34m(self)\u001B[0m\n",
      "\u001B[1;31mKeyboardInterrupt\u001B[0m: "
     ]
    }
   ],
   "execution_count": 27
  },
  {
   "cell_type": "code",
   "id": "a025e4d6-ce3b-4e5d-bbc7-fd32c1118d6b",
   "metadata": {
    "ExecuteTime": {
     "end_time": "2024-10-01T12:22:08.037215Z",
     "start_time": "2024-10-01T12:22:08.022276Z"
    }
   },
   "source": [
    "# loading the LLM\n",
    "llm = Ollama(\n",
    "    model=\"llama3.2:3b\",\n",
    "    temperature=0,\n",
    "    base_url = 'http://localhost:11434'\n",
    ")"
   ],
   "outputs": [],
   "execution_count": 23
  },
  {
   "cell_type": "code",
   "id": "378c5f69-192c-4db7-bc73-68d1fdbc1b2d",
   "metadata": {
    "ExecuteTime": {
     "end_time": "2024-10-01T12:22:25.025826Z",
     "start_time": "2024-10-01T12:22:08.053452Z"
    }
   },
   "source": [
    "# loading the document\n",
    "def load_documents(DATA_PATH):\n",
    "    document_loader = PyPDFDirectoryLoader(DATA_PATH)\n",
    "    return document_loader.load()\n",
    "\n",
    "documents = load_documents(DATA_PATH)\n"
   ],
   "outputs": [],
   "execution_count": 24
  },
  {
   "cell_type": "code",
   "id": "e5d82c99-3c23-4870-b5ac-959cae3052e5",
   "metadata": {
    "ExecuteTime": {
     "end_time": "2024-10-01T12:22:25.057339Z",
     "start_time": "2024-10-01T12:22:25.041511Z"
    }
   },
   "source": [
    "# create document chunks\n",
    "text_splitter = CharacterTextSplitter(\n",
    "                                      chunk_size=1500,\n",
    "                                      chunk_overlap=200)\n"
   ],
   "outputs": [],
   "execution_count": 25
  },
  {
   "cell_type": "code",
   "id": "9592702b-23d2-46ab-a87d-b5a940be82f6",
   "metadata": {
    "ExecuteTime": {
     "end_time": "2024-10-01T12:22:25.104676Z",
     "start_time": "2024-10-01T12:22:25.073203Z"
    }
   },
   "source": [
    "text_chunks = text_splitter.split_documents(documents)"
   ],
   "outputs": [],
   "execution_count": 26
  },
  {
   "cell_type": "code",
   "id": "64d5e44f-631c-4d05-939d-a8aaf37bdd9e",
   "metadata": {
    "ExecuteTime": {
     "end_time": "2024-10-01T12:22:26.883561Z",
     "start_time": "2024-10-01T12:22:25.122550Z"
    }
   },
   "source": [
    "# loading the vector embedding model\n",
    "#embeddings = HuggingFaceEmbeddings()\n",
    "\n",
    "embeddings = OllamaEmbeddings(\n",
    "        model = \"llama3.2:3b\",\n",
    "    base_url = 'http://localhost:11434'\n",
    "    )"
   ],
   "outputs": [
    {
     "name": "stderr",
     "output_type": "stream",
     "text": [
      "C:\\Users\\49171\\AppData\\Local\\Temp\\ipykernel_7220\\2348271736.py:2: LangChainDeprecationWarning: Default values for HuggingFaceEmbeddings.model_name were deprecated in LangChain 0.2.16 and will be removed in 0.4.0. Explicitly pass a model_name to the HuggingFaceEmbeddings constructor instead.\n",
      "  embeddings = HuggingFaceEmbeddings()\n",
      "C:\\Users\\49171\\PycharmProjects\\pythonProject3\\.venv\\lib\\site-packages\\transformers\\tokenization_utils_base.py:1617: FutureWarning: `clean_up_tokenization_spaces` was not set. It will be set to `True` by default. This behavior will be deprecated in transformers v4.45, and will be then set to `False` by default. For more details check this issue: https://github.com/huggingface/transformers/issues/31884\n",
      "  warnings.warn(\n"
     ]
    }
   ],
   "execution_count": 27
  },
  {
   "cell_type": "code",
   "id": "7cb5e2be-76e5-49f3-a50a-d336be3d30e0",
   "metadata": {
    "ExecuteTime": {
     "end_time": "2024-10-01T12:27:00.302296Z",
     "start_time": "2024-10-01T12:22:26.899437Z"
    }
   },
   "source": [
    "knowledge_base = FAISS.from_documents(text_chunks, embeddings)"
   ],
   "outputs": [],
   "execution_count": 28
  },
  {
   "cell_type": "code",
   "id": "ab0d7fda-3c61-49db-b211-275c083175b7",
   "metadata": {
    "ExecuteTime": {
     "end_time": "2024-10-01T12:27:00.349400Z",
     "start_time": "2024-10-01T12:27:00.319342Z"
    }
   },
   "source": [
    "# retrieval QA chain\n",
    "qa_chain = RetrievalQA.from_chain_type(\n",
    "    llm,\n",
    "    retriever=knowledge_base.as_retriever())"
   ],
   "outputs": [],
   "execution_count": 29
  },
  {
   "cell_type": "code",
   "id": "154f2f47-1bc8-4d48-85f6-0775e02f00cc",
   "metadata": {
    "ExecuteTime": {
     "end_time": "2024-10-01T12:28:00.983646Z",
     "start_time": "2024-10-01T12:27:00.365129Z"
    }
   },
   "source": [
    "# Test\n",
    "\n",
    "#question = \"Should I calibrate my PD model before applying Margin of Conservatism?\"\n",
    "#response = qa_chain.invoke({\"query\": question})\n",
    "#print(response[\"result\"])"
   ],
   "outputs": [
    {
     "name": "stdout",
     "output_type": "stream",
     "text": [
      "According to the Basel III regulations, you should not apply Margin of Conservatism (MOC) without first calibrating your Probability of Default (PD) model.\n",
      "\n",
      "The MOC is a risk-based capital requirement that aims to ensure that banks hold sufficient capital to cover potential losses. However, it only applies when the PD model has been calibrated and validated.\n",
      "\n",
      "Calibration involves adjusting the parameters of your PD model to match historical data on defaults or other relevant metrics. This ensures that your model accurately reflects the credit risk of your portfolio.\n",
      "\n",
      "If you apply MOC without calibrating your PD model, you may end up with an overestimation of the required capital, which could lead to inadequate risk management and potentially put your bank at risk.\n",
      "\n",
      "Therefore, it is recommended that you calibrate your PD model before applying Margin of Conservatism.\n"
     ]
    }
   ],
   "execution_count": 30
  },
  {
   "cell_type": "code",
   "id": "c5cf37f5-0b6e-42ef-b7e7-a37e2c630aa3",
   "metadata": {
    "ExecuteTime": {
     "end_time": "2024-10-01T12:28:01.325607400Z",
     "start_time": "2024-10-01T12:13:41.487034Z"
    }
   },
   "source": [
    "# Step2: Set up the Web application\n",
    "with st.sidebar:\n",
    "    st.image(\"https://upload.wikimedia.org/wikipedia/commons/4/49/ING_Group_N.V._Logo.svg\")\n",
    "    st.title(\"AI Document Search Engine\")\n",
    "    st.markdown('''\n",
    "    ## About            \n",
    "    This Application is an LLM-powered chatbot\n",
    "\n",
    "\n",
    "    ''')\n",
    "    st.markdown(\"---\")\n",
    "    st.markdown('''**Made with :orange_heart: by the Algorithm Alchemists**''')\n",
    "\n",
    "\n",
    "def main():\n",
    "    st.header(\"Chat with PDF :left_speech_bubble:\")\n",
    "\n",
    "\n",
    "    # Enter the query of the user\n",
    "    question = st.text_input(\"Ask about your PDF file:\")\n",
    "    st.markdown(f'<p style=\"color:orange;\">{question}</p>', unsafe_allow_html=True)  \n",
    "    st.write(question)\n",
    "\n",
    "    if question:\n",
    "        response = qa_chain.invoke({\"query\": question})\n",
    "        st.write(response[\"result\"])\n",
    "\n",
    "\n",
    "if __name__ == \"__main__\":\n",
    "    main()"
   ],
   "outputs": [
    {
     "name": "stderr",
     "output_type": "stream",
     "text": [
      "2024-10-01 14:13:41.491 Thread 'MainThread': missing ScriptRunContext! This warning can be ignored when running in bare mode.\n",
      "2024-10-01 14:13:41.499 Thread 'MainThread': missing ScriptRunContext! This warning can be ignored when running in bare mode.\n",
      "2024-10-01 14:13:41.499 Thread 'MainThread': missing ScriptRunContext! This warning can be ignored when running in bare mode.\n",
      "2024-10-01 14:13:41.505 Thread 'MainThread': missing ScriptRunContext! This warning can be ignored when running in bare mode.\n",
      "2024-10-01 14:13:41.505 Thread 'MainThread': missing ScriptRunContext! This warning can be ignored when running in bare mode.\n",
      "2024-10-01 14:13:41.505 Thread 'MainThread': missing ScriptRunContext! This warning can be ignored when running in bare mode.\n",
      "2024-10-01 14:13:41.505 Thread 'MainThread': missing ScriptRunContext! This warning can be ignored when running in bare mode.\n",
      "2024-10-01 14:13:41.505 Thread 'MainThread': missing ScriptRunContext! This warning can be ignored when running in bare mode.\n",
      "2024-10-01 14:13:41.505 Thread 'MainThread': missing ScriptRunContext! This warning can be ignored when running in bare mode.\n",
      "2024-10-01 14:13:41.505 Thread 'MainThread': missing ScriptRunContext! This warning can be ignored when running in bare mode.\n",
      "2024-10-01 14:13:41.505 Thread 'MainThread': missing ScriptRunContext! This warning can be ignored when running in bare mode.\n",
      "2024-10-01 14:13:41.505 Thread 'MainThread': missing ScriptRunContext! This warning can be ignored when running in bare mode.\n",
      "2024-10-01 14:13:41.505 Thread 'MainThread': missing ScriptRunContext! This warning can be ignored when running in bare mode.\n",
      "2024-10-01 14:13:41.517 Thread 'MainThread': missing ScriptRunContext! This warning can be ignored when running in bare mode.\n",
      "2024-10-01 14:13:41.521 Thread 'MainThread': missing ScriptRunContext! This warning can be ignored when running in bare mode.\n",
      "2024-10-01 14:13:41.522 Thread 'MainThread': missing ScriptRunContext! This warning can be ignored when running in bare mode.\n",
      "2024-10-01 14:13:41.522 Thread 'MainThread': missing ScriptRunContext! This warning can be ignored when running in bare mode.\n",
      "2024-10-01 14:13:41.526 Thread 'MainThread': missing ScriptRunContext! This warning can be ignored when running in bare mode.\n",
      "2024-10-01 14:13:41.526 Thread 'MainThread': missing ScriptRunContext! This warning can be ignored when running in bare mode.\n",
      "2024-10-01 14:13:41.526 Thread 'MainThread': missing ScriptRunContext! This warning can be ignored when running in bare mode.\n"
     ]
    }
   ],
   "execution_count": 20
  },
  {
   "metadata": {
    "ExecuteTime": {
     "end_time": "2024-10-03T09:19:42.247260Z",
     "start_time": "2024-10-03T09:19:42.228772Z"
    }
   },
   "cell_type": "code",
   "source": [
    "#for index, question in df['Questions'].items():\n",
    "#    response = qa_chain.invoke({\"query\": question})\n",
    "#    df.at[index, 'Answer'] = response[\"result\"]\n",
    "#    print(\"Question no. \" + str(index+1) + \" was processed\")\n",
    "#    print(\"__________\")\n",
    "\n",
    "#df.to_excel('C:/Users/49171/OneDrive/Desktop/Programieren/Python/PDF_test/output.xlsx', index=False)\n",
    "#print(\"All Questions Processed\")"
   ],
   "id": "2254f51a8cd2247f",
   "outputs": [],
   "execution_count": 31
  }
 ],
 "metadata": {
  "kernelspec": {
   "display_name": "Python 3 (ipykernel)",
   "language": "python",
   "name": "python3"
  },
  "language_info": {
   "codemirror_mode": {
    "name": "ipython",
    "version": 3
   },
   "file_extension": ".py",
   "mimetype": "text/x-python",
   "name": "python",
   "nbconvert_exporter": "python",
   "pygments_lexer": "ipython3",
   "version": "3.12.3"
  }
 },
 "nbformat": 4,
 "nbformat_minor": 5
}
