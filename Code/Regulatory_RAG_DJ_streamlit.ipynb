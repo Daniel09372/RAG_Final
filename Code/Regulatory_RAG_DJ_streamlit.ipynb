{
 "cells": [
  {
   "cell_type": "markdown",
   "id": "631eccf85cdbbcfa",
   "metadata": {},
   "source": [
    "---"
   ]
  },
  {
   "cell_type": "markdown",
   "id": "9636b4ee208afb9f",
   "metadata": {},
   "source": [
    "# <span style=\"color:orange; font-weight:bold;\">Regulatory AI Search Engine with Llama</span> <br>\n",
    "### <span style=\"color:orange; font-weight:bold;\">A Local Retrieval-Augmented Generation (RAG) </span> <br> <br>\n",
    "*created with ❤️ by Daniel Jacobowitz & Prasoon Singh*"
   ]
  },
  {
   "cell_type": "markdown",
   "id": "5cb32a2ff8dfdbe7",
   "metadata": {},
   "source": [
    "---"
   ]
  },
  {
   "cell_type": "markdown",
   "id": "1fb7cd1939623f79",
   "metadata": {},
   "source": [
    "# **I. What tha fuck is a Retrieval-Augmented Generation (RAG)?**"
   ]
  },
  {
   "cell_type": "markdown",
   "id": "63c51079b02753d7",
   "metadata": {},
   "source": [
    "Retrieval augmented generation (RAG) is a technique that combines information retrieval technique with language model generation to improve the accuracy and credibility of the generated text, and to better ground the model’s response in evidence. In RAG, a language model is augmented with an external knowledge base or a set of documents that is passed into the context window. <br>\n",
    "\n",
    "At the core of RAG lies the seamless integration of two key components:\n",
    "1. **Vector Databases/ Retriever:** These specialized databases store and index information in a vector representation (so called vector embedding), enabling similarity searches and retrieval of relevant data.\n",
    "2. **Large Language Models (LLMs)/ Generator:** Takes the retrieved information and the original query as input, and produced human-like output that incorporates both factual knowledge and contextual understanding. <br>\n",
    "\n",
    "By combining the retrieved information with the LLM`s language generation capabilities, the RAG system can produce more accurate, relevant and credible responses compared to using the LLM alone. <br>\n",
    "\n",
    "To understand the concept better, let`s compare in the following the basic system with a RAG system. Let’s start with a basic system. A basic system is composed of a prompt, a model, and an output parser. The basic system illustrates the core idea of using LLMs in a structured way by defining the input (prompt), the processing step (model), and the output handling (output parser). It serves as a foundational concept that can be extended and combined with other components to build more complex chains and applications. Below, an illustration of the basic chain architecture is provided. <br> <br>\n",
    " ![basic_chain.png](Basic_chain.png) <br> <br>\n",
    "\n",
    "\n",
    "A RAG system on the other hand adds context when responding to questions. Let’s break down RAG system by a RAG prompt, a RAG retriever, and a RAG chain as illustrated in the following. <br> <br>\n",
    " ![basic_chain.png](RAG_chain.png) <br> <br>\n",
    "\n",
    "Here`s a step-by-step breakdown how a RAG system is structured and how it works: <br>\n",
    "***Data preparation:***\n",
    "1. The raw data sources (e.g. PDF files) are loaded.\n",
    "2. The information of the loaded data sources are extracted (e.g. text from the PDF files).\n",
    "3. The huge amount of text is spilled/ chunked to smaller pieces.\n",
    "4. The chunks are then indexed into a numerical vector  (Embedding) and stored as a vector database (vector store). <br> <br>\n",
    "***RAG:*** <br>\n",
    "1. A user provides a query or prompt to the RAG system.\n",
    "2. The query is then converted to vector embeddings, so the information can be processed for the next step.\n",
    "3. The retriever component searches through the created vector database to find the most relevant information related to the query (vector similarity search).\n",
    "3. The retrieved relevant data/ information along with the original query, is passed to the generator component (the LLM).\n",
    "4. The LLM generates a response that incorporates the retrieved information, providing a more accurate and context-aware answer to the user`s query.\n",
    "\n",
    "By combining the strength of LLMs and information retrieval techniques, RAG systems offer a promising approach to overcome some of the limitations of LLMs and enhancing the quality and reliability of generated text. The benefits of using RAG in enhancing LLM credibility and accuracy are numerous:\n",
    "1. **Improved factual accuracy:** By incorporating relevant information from reliable sources, RAG systems can help reduce the instances of factual errors of inconsistencies in the generated text.\n",
    "2. **Enhanced credibility:** RAG systems can provide citations or references to the sources of information used in the generated response, increasing the credibility and trustworthiness of the output.\n",
    "3. **Access to up-to-date information:** RAG systems can be designed to retrieve information from continuously updated sources, ensuring that the generated responses are based on the most recent and relevant information available.\n",
    "4. **Customization and domain-specific knowledge:** RAG systems can be tailored to specific domains or use cases by incorporating domain-specific knowledge bases or documents, enabling the generation of more accurate and relevant responses within a particular field or context. <br>\n",
    "\n",
    "**Useful links:**\n",
    "- https://medium.com/@dminhk/retrieval-augmented-generation-rag-explained-b1dd89979681\n",
    "\n"
   ]
  },
  {
   "cell_type": "markdown",
   "id": "12d0a4d9e89b85eb",
   "metadata": {},
   "source": [
    "---"
   ]
  },
  {
   "cell_type": "markdown",
   "id": "5156c87447523b37",
   "metadata": {},
   "source": [
    "# **II. Step-by-step instructions to build a RAG**"
   ]
  },
  {
   "cell_type": "markdown",
   "id": "5fe3e43704ba8f5",
   "metadata": {},
   "source": [
    "---"
   ]
  },
  {
   "cell_type": "markdown",
   "id": "1b876b55fdd67d24",
   "metadata": {},
   "source": [
    "### **Step 1: Installing and loading the necessary Modules (incl. description)**"
   ]
  },
  {
   "cell_type": "code",
   "execution_count": 17,
   "id": "24fae24c-433b-4860-badd-e0eb20759f4b",
   "metadata": {
    "ExecuteTime": {
     "end_time": "2024-10-26T11:48:22.344809Z",
     "start_time": "2024-10-26T11:48:22.329726Z"
    }
   },
   "outputs": [],
   "source": [
    "#!pip install langchain-community==0.2.4 langchain==0.2.3 faiss-cpu==1.8.0 unstructured==0.14.5 unstructured[pdf]==0.14.5 transformers==4.41.2 sentence-transformers==3.0.1\n",
    "\n",
    "import pandas as pd\n",
    "\n",
    "import os # --> interacts with the operating system, like creating files and directories, management of files and directories, input, output, environment variables etc.\n",
    "\n",
    "#import pandas as pd # --> Analyses data and allows to manipulate data as dataframes\n",
    "\n",
    "from langchain_community.llms import Ollama  # --> LLM classes provide access to the large language model (in this case locally to Ollama) APIs and services.\n",
    "\n",
    "from langchain.document_loaders import UnstructuredFileLoader # --> Loads data from a source as Documents, which are a piece of text and associated metadata.\n",
    "                                                              # --> In this case, the file loader uses the unstructured partition function and will automatically detect the file type.\n",
    "\n",
    "from langchain.document_loaders.pdf import PyPDFDirectoryLoader # --> Loads data from a source as Documents, which are a piece of text and associated metadata.\n",
    "                                                                # --> In this case, the file loader loads a directory with PDF files using pypdf and chunks at character level. The loader also stores page numbers in metadata.\n",
    "\n",
    "from langchain_community.document_loaders import PyPDFLoader\n",
    "\n",
    "from langchain.embeddings import HuggingFaceEmbeddings #--> Convert the text of the PDF files using Embeddings models into numerical vectors\n",
    "#from langchain_community.embeddings.ollama import OllamaEmbeddings #--> Convert the text of the PDF files using Embeddings models into numerical vectors\n",
    "#from langchain_ollama import OllamaEmbeddings #--> Convert the text of the PDF files using Embeddings models into numerical vectors\n",
    "\n",
    "from langchain_community.vectorstores import FAISS # --> Creates a local vector store to store the created embeddings of the PDF files. LangChain has a number of built-in document transformers that make it easy to split, combine, filter, and otherwise manipulate documents.\n",
    "\n",
    "\n",
    "from langchain.text_splitter import CharacterTextSplitter # --> Splits a long document (in our case the PDF files) into smaller chunks that can fit into the model`s context window. LangChain has a number of built-in document transformers that make it easy to split, combine, filter, and otherwise manipulate documents.\n",
    "from langchain.text_splitter import RecursiveCharacterTextSplitter # --> Splits a long document (in our case the PDF files) into smaller chunks that can fit into the model`s context window. LangChain has a number of built-in document transformers that make it easy to split, combine, filter, and otherwise manipulate documents.\n",
    "from langchain_experimental.text_splitter import SemanticChunker #--> Splits a long document (in our case the PDF files) into smaller chunks that can fit into the model`s context window. LangChain has a number of built-in document transformers that make it easy to split, combine, filter, and otherwise manipulate documents.\n",
    "\n",
    "from langchain.chains import RetrievalQA # --> Chains refer to sequences of calls - whether to an LLM, a tool, or a data preprocessing step. This chain first does a retrieval step to fetch relevant documents, then passes those documents into an LLM to generate a response.\n",
    "\n",
    "from langchain_core.prompts import ChatPromptTemplate # --> A prompt for a language model is a set of instructions or input provided by a user to guide the model's response, helping it understand the context and generate relevant and coherent language-based output, such as answering questions, completing sentences, or engaging in a conversation.\n",
    "#from langchain.memory import ConversationBufferMemory # --> Creates a conversational memory that allows a LLM to remember previous interactions/ chats with the user. It helps to manage and store conversation history in a structured way and to maintain the context of a conversation over multiple interactions.\n",
    "\n",
    "from langchain.callbacks.streaming_stdout import StreamingStdOutCallbackHandler # --> LangChain provides a callbacks system that allows you to hook into the various stages of your LLM application. In this case, it is a callback for streaming.\n",
    "                                                                                # --> Streaming: process of incrementally receiving and processing data generated by a Large Language Model (LLM) as it is produced, rather than waiting for the entire response to be generated before displaying it.\n",
    "from langchain.callbacks.manager import CallbackManager # --> LangChain provides a callbacks system that allows you to hook into the various stages of your LLM application. In this case, it is to manage callbacks.\n",
    "\n",
    "import streamlit as st # --> Streamlit is a free and open-source framework to rapidly build and share beautiful machine learning and data science web apps.\n",
    "\n",
    "import time #This module provides various time-related functions. \n",
    "\n",
    "if not os.path.exists('C:/Users/49171/OneDrive/Desktop/Programieren/Python/PDF_test/Final/pdfFiles'): # Check if the folder does not exist\n",
    "    os.makedirs('C:/Users/49171/OneDrive/Desktop/Programieren/Python/PDF_test/Final/pdfFiles') # create a folder in the specified path if it does not exist already\n",
    "\n",
    "if not os.path.exists('C:/Users/49171/OneDrive/Desktop/Programieren/Python/PDF_test/Final/vectorDB'): # Check if the folder does not exist\n",
    "    os.makedirs('C:/Users/49171/OneDrive/Desktop/Programieren/Python/PDF_test/Final/vectorDB') # create a folder in the specified path if it does not exist already\n",
    "\n",
    "switch = 0"
   ]
  },
  {
   "cell_type": "markdown",
   "id": "2617cb33f823ebfe",
   "metadata": {},
   "source": [
    "---"
   ]
  },
  {
   "cell_type": "markdown",
   "id": "5d32c56a9c2e2475",
   "metadata": {},
   "source": [
    "## **Step 2: Uploading the PDF files as text documents, chunking the documents and convert the documents to numerical vectors incl. indexation with vector embeddings and store them into a local database.** <br> <br>"
   ]
  },
  {
   "cell_type": "code",
   "execution_count": 3,
   "id": "378c5f69-192c-4db7-bc73-68d1fdbc1b2d",
   "metadata": {
    "ExecuteTime": {
     "end_time": "2024-10-26T11:14:01.478312Z",
     "start_time": "2024-10-26T11:14:01.462917Z"
    }
   },
   "outputs": [],
   "source": [
    "# 1. Upload relevant PDF files\n",
    "DATA_PATH = \"C:/Users/49171/OneDrive/Desktop/Programieren/Python/PDF_test/Final/pdfFiles\" # Directory where the relevant PDFs are stored\n",
    "\n",
    "if switch == 1:\n",
    "    def load_documents(DATA_PATH): # defines a function named 'load_documents' that takes one parameter, 'DATA_PATH'.\n",
    "        document_loader = PyPDFDirectoryLoader(DATA_PATH) # creates the class 'PyPDFDirectoryLoader' designed to load PDF documents from a specified directory.\n",
    "        return document_loader.load() # the load method on the document_loader instance and returns the result. The load method is expected to read and load the PDF documents from the directory specified by DATA_PATH. The load method loads data into Document objects.\n",
    "\n",
    "    documents = load_documents(DATA_PATH) # the variable 'documents' is a object containing for every list elements a page of the PDF files.\n",
    "    \n",
    "    # --> Plausibility check\n",
    "    print(\"\\033[92mThe upload of the PDF files was successful!\\033[0m\")\n",
    "    print('')\n",
    "    print('CRR:')\n",
    "    print (documents[0])\n",
    "    print('')\n",
    "    print('Banking Act:')\n",
    "    print(documents[337])\n",
    "    print('')\n",
    "    print('MaRisk:')\n",
    "    print(documents[600])\n",
    "    print('')"
   ]
  },
  {
   "cell_type": "code",
   "execution_count": 4,
   "id": "e5d82c99-3c23-4870-b5ac-959cae3052e5",
   "metadata": {
    "ExecuteTime": {
     "end_time": "2024-10-26T11:14:03.771843Z",
     "start_time": "2024-10-26T11:14:03.756221Z"
    }
   },
   "outputs": [],
   "source": [
    "# 2. Chunking the documents\n",
    "\n",
    "if switch == 1:\n",
    "    #text_splitter = SemanticChunker(embeddings=HuggingFaceEmbeddings(), breakpoint_threshold_type=\"percentile\") # Apply the chunking based on cosine similarity. There a many breakpoint threshold types.\n",
    "    #text_chunks = text_splitter.split_documents(documents) # #  splits the documents into chunks based on the similarity\n",
    "    \n",
    "    text_splitter = RecursiveCharacterTextSplitter( # function to split documents into chunks\n",
    "                chunk_size=1500, # sets the maximum size of each chunk to 1500 characters.\n",
    "                chunk_overlap=200, #  sets the overlap between consecutive chunks to 200 characters. Overlapping helps to ensure that context is preserved across chunks.\n",
    "                length_function=len # specifies that the length of the chunks will be measured using the len function, which counts the number of characters.\n",
    "            )\n",
    "\n",
    "    text_chunks = text_splitter.split_documents(documents) #  splits the documents into chunks based on the specified chunk_size and chunk_overlap."
   ]
  },
  {
   "cell_type": "code",
   "execution_count": 5,
   "id": "7cb5e2be-76e5-49f3-a50a-d336be3d30e0",
   "metadata": {
    "ExecuteTime": {
     "end_time": "2024-10-26T11:14:17.814294Z",
     "start_time": "2024-10-26T11:14:04.949758Z"
    }
   },
   "outputs": [
    {
     "name": "stderr",
     "output_type": "stream",
     "text": [
      "C:\\Users\\49171\\AppData\\Local\\Temp\\ipykernel_12496\\1986862643.py:3: LangChainDeprecationWarning: The class `HuggingFaceEmbeddings` was deprecated in LangChain 0.2.2 and will be removed in 1.0. An updated version of the class exists in the langchain-huggingface package and should be used instead. To use it run `pip install -U langchain-huggingface` and import as `from langchain_huggingface import HuggingFaceEmbeddings`.\n",
      "  embeddings = HuggingFaceEmbeddings() # The used embeddings model is from HuggingFace\n",
      "C:\\Users\\49171\\AppData\\Local\\Temp\\ipykernel_12496\\1986862643.py:3: LangChainDeprecationWarning: Default values for HuggingFaceEmbeddings.model_name were deprecated in LangChain 0.2.16 and will be removed in 0.4.0. Explicitly pass a model_name to the HuggingFaceEmbeddings constructor instead.\n",
      "  embeddings = HuggingFaceEmbeddings() # The used embeddings model is from HuggingFace\n",
      "C:\\Users\\49171\\PycharmProjects\\pythonProject3\\.venv\\lib\\site-packages\\sentence_transformers\\cross_encoder\\CrossEncoder.py:13: TqdmWarning: IProgress not found. Please update jupyter and ipywidgets. See https://ipywidgets.readthedocs.io/en/stable/user_install.html\n",
      "  from tqdm.autonotebook import tqdm, trange\n",
      "C:\\Users\\49171\\PycharmProjects\\pythonProject3\\.venv\\lib\\site-packages\\transformers\\tokenization_utils_base.py:1617: FutureWarning: `clean_up_tokenization_spaces` was not set. It will be set to `True` by default. This behavior will be deprecated in transformers v4.45, and will be then set to `False` by default. For more details check this issue: https://github.com/huggingface/transformers/issues/31884\n",
      "  warnings.warn(\n"
     ]
    }
   ],
   "source": [
    "# 3. Convert the splitted text into Vector Embeddings incl. indexation and store the created vector data base locally\n",
    "\n",
    "embeddings = HuggingFaceEmbeddings() # The used embeddings model is from HuggingFace\n",
    " #embeddings = OllamaEmbeddings(\n",
    "    #        model = \"llama3.2:3b\",\n",
    "    #  base_url = 'http://localhost:11434'\n",
    "    #    )\n",
    "\n",
    "if switch == 1:\n",
    "   # Create and save the vector store\n",
    "    knowledge_base = FAISS.from_documents(text_chunks, embeddings) # The created chunks are converted to numerical vectors and stored in a FAISS vector database.\n",
    "    knowledge_base.save_local('C:/Users/49171/OneDrive/Desktop/Programieren/Python/PDF_test/Final/vectorDB') # The created FAISS vector database is stored locally in the given directory.\n",
    "\n",
    "    print(\"\\033[92mThe Embedding was successful!\\033[0m\")\n"
   ]
  },
  {
   "cell_type": "markdown",
   "id": "f5a9c707b20093f",
   "metadata": {},
   "source": [
    "---"
   ]
  },
  {
   "cell_type": "markdown",
   "id": "eba32552813cb0a1",
   "metadata": {},
   "source": [
    "## **Step 3: Declare the created data base as retriever and test the retrieval based on a cosine similarity search** <br> <br>"
   ]
  },
  {
   "cell_type": "code",
   "execution_count": 5,
   "id": "ab0d7fda-3c61-49db-b211-275c083175b7",
   "metadata": {
    "ExecuteTime": {
     "end_time": "2024-10-21T22:06:48.141888Z",
     "start_time": "2024-10-21T22:06:47.442107Z"
    }
   },
   "outputs": [],
   "source": [
    "# 1. Declaration of the retriever based on the created database\n",
    "\n",
    "retriever = FAISS.load_local( # This method converts the stored vector database into a retriever object. A retriever is typically used to search and retrieve relevant documents or information. In other words, it will be the base for the search as the retrieved information will then later be passed to the LLM.\n",
    "    'C:/Users/49171/OneDrive/Desktop/Programieren/Python/PDF_test/Final/vectorDB', # Directory of the locally stored vector database\n",
    "    embeddings, # Parameter to declare, that the embeddings should be loaded.\n",
    "    allow_dangerous_deserialization=True).as_retriever(search_kwargs={\"k\":5}) # Defines, that the 5 most similar text chunks should be output in the course of a cosine similarity search."
   ]
  },
  {
   "cell_type": "markdown",
   "id": "a30655c51dd0d433",
   "metadata": {},
   "source": [
    "---"
   ]
  },
  {
   "cell_type": "markdown",
   "id": "138e0144ecd58b10",
   "metadata": {},
   "source": [
    "## **Step 4: Passing the retrieved information to the LLM** <br> <br>"
   ]
  },
  {
   "cell_type": "code",
   "execution_count": 6,
   "id": "154f2f47-1bc8-4d48-85f6-0775e02f00cc",
   "metadata": {
    "ExecuteTime": {
     "end_time": "2024-10-21T22:07:05.921905Z",
     "start_time": "2024-10-21T22:07:05.906857Z"
    }
   },
   "outputs": [],
   "source": [
    "# 1. Create a prompt template to pass the retrieved information and the original query in a standardised format to the LLM. \n",
    "\n",
    "# The input variable needs to be declared in the next steps. \"Context\" is the retrieved information and \"question\" the original query. \n",
    "PROMPT_TEMPLATE = \"\"\"\n",
    "Answer the question based only on the following context:\n",
    "\n",
    "{context}\n",
    "\n",
    "---\n",
    "\n",
    "Answer the question based on the above context: {question}\n",
    "\"\"\"\n",
    "\n",
    "prompt_template = ChatPromptTemplate.from_template(PROMPT_TEMPLATE) # Create a ChatPromptTemplate object to pass it to the LLM.\n",
    "\n"
   ]
  },
  {
   "cell_type": "code",
   "execution_count": 7,
   "id": "90183e6857da198c",
   "metadata": {
    "ExecuteTime": {
     "end_time": "2024-10-21T22:07:11.249198Z",
     "start_time": "2024-10-21T22:07:11.235099Z"
    }
   },
   "outputs": [],
   "source": [
    "# 2. Declare the preferred LLM to generate the answer for the query based on the retrieved information.\n",
    "\n",
    "llm = Ollama( # The local ollama model is used for the generation of the answer.\n",
    "    model=\"llama3.2:3b\", # Model version\n",
    "    temperature=0, # controls the randomness of the model's output. A higher temperature value (e.g., 1.5) makes the model's responses more random and creative, while a lower temperature value (e.g., 0.9) makes the responses more deterministic and focused. The default value is typically around 1.1. The chosen value of 0 means the model will produce the most deterministic and predictable output, essentially always choosing the highest probability token at each step. This makes the responses very repetitive and lacks the creativity or variability you'd see with higher temperatures. It's like playing it safe and not taking any chances.\n",
    "    base_url = 'http://localhost:11434', # Local base URL\n",
    ")"
   ]
  },
  {
   "cell_type": "code",
   "execution_count": 9,
   "id": "c607432440b3fd09",
   "metadata": {
    "ExecuteTime": {
     "end_time": "2024-10-21T22:07:23.699660Z",
     "start_time": "2024-10-21T22:07:23.683825Z"
    }
   },
   "outputs": [],
   "source": [
    "qa_chain = RetrievalQA.from_chain_type( # Creates a RetrievalQA object, which creates a connection (\"chain\") between the retrieved information and the declared LLM.\n",
    "    llm, # Specifies the language model to be used for generating answers, which has been declared in the previous step.\n",
    "    retriever=retriever, # Specifies the retriever to be used for fetching relevant documents or information from the stored vector database.\n",
    "    chain_type_kwargs={ # A dictionary of additional keyword arguments for the chain type.\n",
    "                \"verbose\": True, # Ensures that verbose mode is enabled within the chain.\n",
    "                \"prompt\": prompt_template } # Specifies the prompt template to be passed to the LLM containing the retrieved information and the original query,\n",
    ")"
   ]
  },
  {
   "cell_type": "markdown",
   "id": "95a758f7bf66fe92",
   "metadata": {},
   "source": [
    "---"
   ]
  },
  {
   "cell_type": "markdown",
   "id": "a96880b5c4a8d234",
   "metadata": {},
   "source": [
    "## **Step 5: Generate an answer from the LLM based on the retrieved information** <br> <br>"
   ]
  },
  {
   "cell_type": "markdown",
   "id": "321b247a8186db13",
   "metadata": {},
   "source": [
    "---"
   ]
  },
  {
   "cell_type": "markdown",
   "id": "80a9c1a16e9643f0",
   "metadata": {},
   "source": [
    "# III. Appendix"
   ]
  },
  {
   "cell_type": "markdown",
   "id": "3e389556b6127bab",
   "metadata": {},
   "source": [
    "### **1. Code to generate answers for the validation**"
   ]
  },
  {
   "cell_type": "markdown",
   "id": "d953b1d8a2ad8be9",
   "metadata": {},
   "source": [
    "---"
   ]
  },
  {
   "cell_type": "markdown",
   "id": "d79e47037cd74bfa",
   "metadata": {},
   "source": [
    "### **2. Code to create a Web application for the RAG**"
   ]
  },
  {
   "cell_type": "code",
   "execution_count": 10,
   "id": "c5cf37f5-0b6e-42ef-b7e7-a37e2c630aa3",
   "metadata": {
    "ExecuteTime": {
     "end_time": "2024-10-21T22:07:50.612370Z",
     "start_time": "2024-10-21T22:07:50.260061Z"
    }
   },
   "outputs": [
    {
     "name": "stderr",
     "output_type": "stream",
     "text": [
      "2024-10-22 00:07:50.269 WARNING streamlit.runtime.scriptrunner_utils.script_run_context: Thread 'MainThread': missing ScriptRunContext! This warning can be ignored when running in bare mode.\n",
      "2024-10-22 00:07:50.277 WARNING streamlit.runtime.scriptrunner_utils.script_run_context: Thread 'MainThread': missing ScriptRunContext! This warning can be ignored when running in bare mode.\n",
      "2024-10-22 00:07:50.587 \n",
      "  \u001b[33m\u001b[1mWarning:\u001b[0m to view this Streamlit app on a browser, run it with the following\n",
      "  command:\n",
      "\n",
      "    streamlit run C:\\Users\\49171\\PycharmProjects\\pythonProject3\\.venv\\lib\\site-packages\\ipykernel_launcher.py [ARGUMENTS]\n",
      "2024-10-22 00:07:50.588 Thread 'MainThread': missing ScriptRunContext! This warning can be ignored when running in bare mode.\n",
      "2024-10-22 00:07:50.589 Thread 'MainThread': missing ScriptRunContext! This warning can be ignored when running in bare mode.\n",
      "2024-10-22 00:07:50.590 Thread 'MainThread': missing ScriptRunContext! This warning can be ignored when running in bare mode.\n",
      "2024-10-22 00:07:50.591 Thread 'MainThread': missing ScriptRunContext! This warning can be ignored when running in bare mode.\n",
      "2024-10-22 00:07:50.592 Thread 'MainThread': missing ScriptRunContext! This warning can be ignored when running in bare mode.\n",
      "2024-10-22 00:07:50.593 Thread 'MainThread': missing ScriptRunContext! This warning can be ignored when running in bare mode.\n",
      "2024-10-22 00:07:50.593 Thread 'MainThread': missing ScriptRunContext! This warning can be ignored when running in bare mode.\n",
      "2024-10-22 00:07:50.593 Thread 'MainThread': missing ScriptRunContext! This warning can be ignored when running in bare mode.\n",
      "2024-10-22 00:07:50.597 Thread 'MainThread': missing ScriptRunContext! This warning can be ignored when running in bare mode.\n",
      "2024-10-22 00:07:50.598 Thread 'MainThread': missing ScriptRunContext! This warning can be ignored when running in bare mode.\n",
      "2024-10-22 00:07:50.599 Thread 'MainThread': missing ScriptRunContext! This warning can be ignored when running in bare mode.\n",
      "2024-10-22 00:07:50.599 Thread 'MainThread': missing ScriptRunContext! This warning can be ignored when running in bare mode.\n",
      "2024-10-22 00:07:50.600 Thread 'MainThread': missing ScriptRunContext! This warning can be ignored when running in bare mode.\n",
      "2024-10-22 00:07:50.600 Thread 'MainThread': missing ScriptRunContext! This warning can be ignored when running in bare mode.\n",
      "2024-10-22 00:07:50.600 Thread 'MainThread': missing ScriptRunContext! This warning can be ignored when running in bare mode.\n",
      "2024-10-22 00:07:50.600 Session state does not function when running a script without `streamlit run`\n",
      "2024-10-22 00:07:50.600 Thread 'MainThread': missing ScriptRunContext! This warning can be ignored when running in bare mode.\n",
      "2024-10-22 00:07:50.600 Thread 'MainThread': missing ScriptRunContext! This warning can be ignored when running in bare mode.\n",
      "2024-10-22 00:07:50.606 Thread 'MainThread': missing ScriptRunContext! This warning can be ignored when running in bare mode.\n",
      "2024-10-22 00:07:50.607 Thread 'MainThread': missing ScriptRunContext! This warning can be ignored when running in bare mode.\n"
     ]
    }
   ],
   "source": [
    "with st.sidebar:\n",
    "    st.image(\"https://upload.wikimedia.org/wikipedia/commons/4/49/ING_Group_N.V._Logo.svg\")\n",
    "    st.title(\"Regulatory AI Search Engine\")\n",
    "    st.markdown('''\n",
    "    ## About            \n",
    "    This application is a regulatory chatbot using a local Retrieval-Augmented Generation (RAG)\n",
    "\n",
    "\n",
    "    ''')\n",
    "    st.markdown(\"---\")\n",
    "    st.markdown('''**Made with :orange_heart: by the Algorithm Alchemists**''')\n",
    "\n",
    "\n",
    "\n",
    "\n",
    "def main():\n",
    "    st.header(\"Chat with PDF :left_speech_bubble:\")\n",
    "\n",
    "    # Initialize chat history if not already in session state\n",
    "    if \"chat_history\" not in st.session_state:\n",
    "        st.session_state.chat_history = []\n",
    "        # Add initial message from the assistant\n",
    "        welcome_message = {\"role\": \"assistant\", \"message\": \"Hi, how can I help you today?\"}\n",
    "        st.session_state.chat_history.append(welcome_message)\n",
    "\n",
    "    # Display chat history\n",
    "    for chat in st.session_state.chat_history:\n",
    "        with st.chat_message(chat[\"role\"]):\n",
    "            st.markdown(chat[\"message\"])\n",
    "            if \"Sources\" in chat[\"message\"]:\n",
    "                with st.expander(\"🔍 Sources\", expanded=False):\n",
    "                    st.markdown(chat[\"message\"])\n",
    "\n",
    "    # User input\n",
    "    if user_input := st.chat_input(\"Type here your question:\", key=\"user_input\"):\n",
    "        user_message = {\"role\": \"user\", \"message\": user_input}\n",
    "        st.session_state.chat_history.append(user_message)\n",
    "\n",
    "        # Display user message\n",
    "        with st.chat_message(\"user\"):\n",
    "            st.markdown(user_input)\n",
    "\n",
    "        # Generate assistant's response\n",
    "        with st.chat_message(\"assistant\"):\n",
    "            with st.spinner(\"Assistant is typing...\"):\n",
    "                response = qa_chain.invoke({\"query\": user_input})\n",
    "            message_placeholder = st.empty()\n",
    "            full_response = \"\"\n",
    "            for chunk in response['result'].split():\n",
    "                full_response += chunk + \" \"\n",
    "                time.sleep(0.05)\n",
    "                message_placeholder.markdown(full_response + \"▌\")\n",
    "\n",
    "        assistant_message = {\"role\": \"assistant\", \"message\": response['result']}\n",
    "        st.session_state.chat_history.append(assistant_message)\n",
    "\n",
    "        # Display sources\n",
    "        full_sources = []\n",
    "        results = retriever.invoke(user_input)\n",
    "        for doc in results:\n",
    "            source_path = doc.metadata.get('source', 'No source available')\n",
    "            source_filename = os.path.basename(source_path)\n",
    "            filename_without_extension = os.path.splitext(source_filename)[0]\n",
    "            source = f\"Source: {filename_without_extension}\"\n",
    "            page = doc.metadata.get('page', 'No page available')\n",
    "            if page != 'No page available':\n",
    "                page_number = int(page) + 1\n",
    "            else:\n",
    "                page_number = \"No page available\"\n",
    "            full_source = f\"{source}, Page: {page_number}\"\n",
    "            full_sources.append(full_source)\n",
    "        final_source = \"\\n\".join(full_sources)\n",
    "        source_message = {\"role\": \"assistant\", \"message\": final_source}\n",
    "        st.session_state.chat_history.append(source_message)\n",
    "\n",
    "        with st.expander(\"🔍 Sources\", expanded=False):\n",
    "            st.markdown(final_source)\n",
    "    else:\n",
    "        st.write(\"Please type your question regarding the CRR, MaRisk or the German Banking Act.\")\n",
    "\n",
    "if __name__ == \"__main__\":\n",
    "    main()"
   ]
  }
 ],
 "metadata": {
  "kernelspec": {
   "display_name": "Python 3 (ipykernel)",
   "language": "python",
   "name": "python3"
  },
  "language_info": {
   "codemirror_mode": {
    "name": "ipython",
    "version": 3
   },
   "file_extension": ".py",
   "mimetype": "text/x-python",
   "name": "python",
   "nbconvert_exporter": "python",
   "pygments_lexer": "ipython3",
   "version": "3.12.3"
  }
 },
 "nbformat": 4,
 "nbformat_minor": 5
}
